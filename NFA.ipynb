{
 "cells": [
  {
   "cell_type": "code",
   "execution_count": 58,
   "metadata": {},
   "outputs": [],
   "source": [
    "from functools import reduce\n",
    "from PySimpleAutomata import DFA, automata_IO\n",
    "import json\n",
    "import pdb"
   ]
  },
  {
   "cell_type": "code",
   "execution_count": 59,
   "metadata": {},
   "outputs": [],
   "source": [
    "with open('fsm/22-Num.json', 'r') as f:\n",
    "    j = json.load(f)"
   ]
  },
  {
   "cell_type": "code",
   "execution_count": 60,
   "metadata": {},
   "outputs": [],
   "source": [
    "alphabet = list(reduce(lambda acc, x: acc | set(x.keys()), list(j.values()), set()))"
   ]
  },
  {
   "cell_type": "code",
   "execution_count": 61,
   "metadata": {},
   "outputs": [],
   "source": [
    "states = list(reduce(lambda acc, x: acc + list(x.values()), list(j.values()), [])+list(j.keys()))"
   ]
  },
  {
   "cell_type": "code",
   "execution_count": 62,
   "metadata": {},
   "outputs": [],
   "source": [
    "initial_state = '0'\n",
    "accepting_states = ['2']"
   ]
  },
  {
   "cell_type": "code",
   "execution_count": 63,
   "metadata": {},
   "outputs": [],
   "source": [
    "trans = []\n",
    "for s0, transitions in j.items():\n",
    "    for x, s1 in transitions.items():\n",
    "        trans.append([s0, 'Ɛ' if x == '' else x, list(s1)[0]])"
   ]
  },
  {
   "cell_type": "code",
   "execution_count": 69,
   "metadata": {},
   "outputs": [],
   "source": [
    "newNfa = {\n",
    "    \"alphabet\": alphabet,\n",
    "    \"states\": states,\n",
    "    \"initial_states\": [initial_state],\n",
    "    \"accepting_states\": accepting_states,\n",
    "    \"transitions\": trans\n",
    "}"
   ]
  },
  {
   "cell_type": "code",
   "execution_count": 53,
   "metadata": {},
   "outputs": [],
   "source": [
    "lex = {\n",
    "    \"alphabet\": ['letra', 'digito', 'especial', 'controle'],\n",
    "    \"states\": ['A', 'B', 'C', 'D', 'E'],\n",
    "    \"initial_state\": 'A',\n",
    "    \"accepting_states\": ['B', 'C', 'D', 'E'],\n",
    "    \"transitions\": [\n",
    "        ['A', 'letra', 'B'],\n",
    "        ['A', 'digito', 'C'],\n",
    "        ['A', 'especial', 'D'],\n",
    "        ['A', 'controle', 'E'],\n",
    "        ['B', 'letra', 'B'],\n",
    "        ['B', 'digito', 'B'],\n",
    "        ['C', 'digito', 'C'],\n",
    "        ['D', 'especial', 'D'],\n",
    "        ['E', 'letra', 'E'],\n",
    "        ['E', 'digito', 'E'],\n",
    "        ['E', 'especial', 'E']\n",
    "    ],\n",
    "},"
   ]
  },
  {
   "cell_type": "code",
   "execution_count": 70,
   "metadata": {},
   "outputs": [
    {
     "ename": "TypeError",
     "evalue": "list indices must be integers or slices, not str",
     "output_type": "error",
     "traceback": [
      "\u001b[0;31m---------------------------------------------------------------------------\u001b[0m",
      "\u001b[0;31mTypeError\u001b[0m                                 Traceback (most recent call last)",
      "\u001b[0;32m<ipython-input-70-b411429f54bd>\u001b[0m in \u001b[0;36m<module>\u001b[0;34m\u001b[0m\n\u001b[0;32m----> 1\u001b[0;31m \u001b[0mautomata_IO\u001b[0m\u001b[0;34m.\u001b[0m\u001b[0mnfa_json_importer\u001b[0m\u001b[0;34m(\u001b[0m\u001b[0;34m'lex.json'\u001b[0m\u001b[0;34m)\u001b[0m\u001b[0;34m\u001b[0m\u001b[0m\n\u001b[0m",
      "\u001b[0;32m~/.pyenv/versions/miniconda3-latest/envs/notebook/lib/python3.7/site-packages/PySimpleAutomata/automata_IO.py\u001b[0m in \u001b[0;36mnfa_json_importer\u001b[0;34m(input_file)\u001b[0m\n\u001b[1;32m    236\u001b[0m     \u001b[0mtransitions\u001b[0m \u001b[0;34m=\u001b[0m \u001b[0;34m{\u001b[0m\u001b[0;34m}\u001b[0m  \u001b[0;31m# key [state in states, action in alphabet]\u001b[0m\u001b[0;34m\u001b[0m\u001b[0m\n\u001b[1;32m    237\u001b[0m     \u001b[0;31m#                   value [Set of arriving states in states]\u001b[0m\u001b[0;34m\u001b[0m\u001b[0;34m\u001b[0m\u001b[0m\n\u001b[0;32m--> 238\u001b[0;31m     \u001b[0;32mfor\u001b[0m \u001b[0mp\u001b[0m \u001b[0;32min\u001b[0m \u001b[0mjson_file\u001b[0m\u001b[0;34m[\u001b[0m\u001b[0;34m'transitions'\u001b[0m\u001b[0;34m]\u001b[0m\u001b[0;34m:\u001b[0m\u001b[0;34m\u001b[0m\u001b[0m\n\u001b[0m\u001b[1;32m    239\u001b[0m         \u001b[0mtransitions\u001b[0m\u001b[0;34m.\u001b[0m\u001b[0msetdefault\u001b[0m\u001b[0;34m(\u001b[0m\u001b[0;34m(\u001b[0m\u001b[0mp\u001b[0m\u001b[0;34m[\u001b[0m\u001b[0;36m0\u001b[0m\u001b[0;34m]\u001b[0m\u001b[0;34m,\u001b[0m \u001b[0mp\u001b[0m\u001b[0;34m[\u001b[0m\u001b[0;36m1\u001b[0m\u001b[0;34m]\u001b[0m\u001b[0;34m)\u001b[0m\u001b[0;34m,\u001b[0m \u001b[0mset\u001b[0m\u001b[0;34m(\u001b[0m\u001b[0;34m)\u001b[0m\u001b[0;34m)\u001b[0m\u001b[0;34m.\u001b[0m\u001b[0madd\u001b[0m\u001b[0;34m(\u001b[0m\u001b[0mp\u001b[0m\u001b[0;34m[\u001b[0m\u001b[0;36m2\u001b[0m\u001b[0;34m]\u001b[0m\u001b[0;34m)\u001b[0m\u001b[0;34m\u001b[0m\u001b[0m\n\u001b[1;32m    240\u001b[0m \u001b[0;34m\u001b[0m\u001b[0m\n",
      "\u001b[0;31mTypeError\u001b[0m: list indices must be integers or slices, not str"
     ]
    }
   ],
   "source": [
    "automata_IO.nfa_json_importer('lex.json')"
   ]
  },
  {
   "cell_type": "code",
   "execution_count": 71,
   "metadata": {},
   "outputs": [
    {
     "ename": "TypeError",
     "evalue": "list indices must be integers or slices, not str",
     "output_type": "error",
     "traceback": [
      "\u001b[0;31m---------------------------------------------------------------------------\u001b[0m",
      "\u001b[0;31mTypeError\u001b[0m                                 Traceback (most recent call last)",
      "\u001b[0;32m<ipython-input-71-cd8468bbe2e9>\u001b[0m in \u001b[0;36m<module>\u001b[0;34m\u001b[0m\n\u001b[1;32m      2\u001b[0m     \u001b[0mjson\u001b[0m\u001b[0;34m.\u001b[0m\u001b[0mdump\u001b[0m\u001b[0;34m(\u001b[0m\u001b[0mlex\u001b[0m\u001b[0;34m,\u001b[0m \u001b[0mf\u001b[0m\u001b[0;34m)\u001b[0m\u001b[0;34m\u001b[0m\u001b[0m\n\u001b[1;32m      3\u001b[0m automata_IO.dfa_to_dot(\n\u001b[0;32m----> 4\u001b[0;31m     \u001b[0mautomata_IO\u001b[0m\u001b[0;34m.\u001b[0m\u001b[0mdfa_json_importer\u001b[0m\u001b[0;34m(\u001b[0m\u001b[0;34m'lex.json'\u001b[0m\u001b[0;34m)\u001b[0m\u001b[0;34m,\u001b[0m\u001b[0;34m\u001b[0m\u001b[0m\n\u001b[0m\u001b[1;32m      5\u001b[0m     \u001b[0;34m'lex'\u001b[0m\u001b[0;34m,\u001b[0m\u001b[0;34m\u001b[0m\u001b[0m\n\u001b[1;32m      6\u001b[0m     \u001b[0;34m'.'\u001b[0m\u001b[0;34m\u001b[0m\u001b[0m\n",
      "\u001b[0;32m~/.pyenv/versions/miniconda3-latest/envs/notebook/lib/python3.7/site-packages/PySimpleAutomata/automata_IO.py\u001b[0m in \u001b[0;36mdfa_json_importer\u001b[0;34m(input_file)\u001b[0m\n\u001b[1;32m     38\u001b[0m     \u001b[0mtransitions\u001b[0m \u001b[0;34m=\u001b[0m \u001b[0;34m{\u001b[0m\u001b[0;34m}\u001b[0m  \u001b[0;31m# key [state ∈ states, action ∈ alphabet]\u001b[0m\u001b[0;34m\u001b[0m\u001b[0m\n\u001b[1;32m     39\u001b[0m     \u001b[0;31m#                   value [arriving state ∈ states]\u001b[0m\u001b[0;34m\u001b[0m\u001b[0;34m\u001b[0m\u001b[0m\n\u001b[0;32m---> 40\u001b[0;31m     \u001b[0;32mfor\u001b[0m \u001b[0;34m(\u001b[0m\u001b[0morigin\u001b[0m\u001b[0;34m,\u001b[0m \u001b[0maction\u001b[0m\u001b[0;34m,\u001b[0m \u001b[0mdestination\u001b[0m\u001b[0;34m)\u001b[0m \u001b[0;32min\u001b[0m \u001b[0mjson_file\u001b[0m\u001b[0;34m[\u001b[0m\u001b[0;34m'transitions'\u001b[0m\u001b[0;34m]\u001b[0m\u001b[0;34m:\u001b[0m\u001b[0;34m\u001b[0m\u001b[0m\n\u001b[0m\u001b[1;32m     41\u001b[0m         \u001b[0mtransitions\u001b[0m\u001b[0;34m[\u001b[0m\u001b[0morigin\u001b[0m\u001b[0;34m,\u001b[0m \u001b[0maction\u001b[0m\u001b[0;34m]\u001b[0m \u001b[0;34m=\u001b[0m \u001b[0mdestination\u001b[0m\u001b[0;34m\u001b[0m\u001b[0m\n\u001b[1;32m     42\u001b[0m \u001b[0;34m\u001b[0m\u001b[0m\n",
      "\u001b[0;31mTypeError\u001b[0m: list indices must be integers or slices, not str"
     ]
    }
   ],
   "source": [
    "with open('lex.json', 'w') as f:\n",
    "    json.dump(lex, f)\n",
    "automata_IO.dfa_to_dot(\n",
    "    automata_IO.dfa_json_importer('lex.json'),\n",
    "    'lex',\n",
    "    '.'\n",
    ")"
   ]
  },
  {
   "cell_type": "code",
   "execution_count": null,
   "metadata": {},
   "outputs": [],
   "source": [
    "states = {\n",
    "    'A': {'next': {'letra': 'B','digito': 'C', 'especial': 'D', 'controle': 'E'}, 'final': False},\n",
    "    'B': {'next': {'letra': 'B','digito': 'B'}, 'final': True, 'type':'letter'},\n",
    "    'C': {'next': {'digito': 'C'}, 'final': True, 'type':'digit'},\n",
    "    'D': {'next': {'especial': 'D'}, 'final': True, 'type':'especial'},\n",
    "    'E': {'next': {'letra': 'E', 'digito': 'E', 'especial': 'E'}, 'final': True, 'type': 'remark'},\n",
    "}"
   ]
  },
  {
   "cell_type": "code",
   "execution_count": 65,
   "metadata": {},
   "outputs": [
    {
     "data": {
      "text/plain": [
       "['', '+', ':Int', '.', '-', 'digit', 'E']"
      ]
     },
     "execution_count": 65,
     "metadata": {},
     "output_type": "execute_result"
    }
   ],
   "source": [
    "alphabet"
   ]
  },
  {
   "cell_type": "code",
   "execution_count": 66,
   "metadata": {},
   "outputs": [],
   "source": [
    "with open('nfa_example.json', 'w') as f:\n",
    "    json.dump(newNfa, f)"
   ]
  },
  {
   "cell_type": "code",
   "execution_count": 68,
   "metadata": {},
   "outputs": [
    {
     "ename": "TypeError",
     "evalue": "unhashable type: 'list'",
     "output_type": "error",
     "traceback": [
      "\u001b[0;31m---------------------------------------------------------------------------\u001b[0m",
      "\u001b[0;31mTypeError\u001b[0m                                 Traceback (most recent call last)",
      "\u001b[0;32m<ipython-input-68-8f8d8dfd4cca>\u001b[0m in \u001b[0;36m<module>\u001b[0;34m\u001b[0m\n\u001b[1;32m      1\u001b[0m automata_IO.nfa_to_dot(\n\u001b[0;32m----> 2\u001b[0;31m     \u001b[0mautomata_IO\u001b[0m\u001b[0;34m.\u001b[0m\u001b[0mnfa_json_importer\u001b[0m\u001b[0;34m(\u001b[0m\u001b[0;34m'nfa_example.json'\u001b[0m\u001b[0;34m)\u001b[0m\u001b[0;34m,\u001b[0m\u001b[0;34m\u001b[0m\u001b[0m\n\u001b[0m\u001b[1;32m      3\u001b[0m     \u001b[0;34m'nfa_example'\u001b[0m\u001b[0;34m,\u001b[0m\u001b[0;34m\u001b[0m\u001b[0m\n\u001b[1;32m      4\u001b[0m     \u001b[0;34m'.'\u001b[0m\u001b[0;34m\u001b[0m\u001b[0m\n\u001b[1;32m      5\u001b[0m )\n",
      "\u001b[0;32m~/.pyenv/versions/miniconda3-latest/envs/notebook/lib/python3.7/site-packages/PySimpleAutomata/automata_IO.py\u001b[0m in \u001b[0;36mnfa_json_importer\u001b[0;34m(input_file)\u001b[0m\n\u001b[1;32m    241\u001b[0m     nfa = {\n\u001b[1;32m    242\u001b[0m         \u001b[0;34m'alphabet'\u001b[0m\u001b[0;34m:\u001b[0m \u001b[0mset\u001b[0m\u001b[0;34m(\u001b[0m\u001b[0mjson_file\u001b[0m\u001b[0;34m[\u001b[0m\u001b[0;34m'alphabet'\u001b[0m\u001b[0;34m]\u001b[0m\u001b[0;34m)\u001b[0m\u001b[0;34m,\u001b[0m\u001b[0;34m\u001b[0m\u001b[0m\n\u001b[0;32m--> 243\u001b[0;31m         \u001b[0;34m'states'\u001b[0m\u001b[0;34m:\u001b[0m \u001b[0mset\u001b[0m\u001b[0;34m(\u001b[0m\u001b[0mjson_file\u001b[0m\u001b[0;34m[\u001b[0m\u001b[0;34m'states'\u001b[0m\u001b[0;34m]\u001b[0m\u001b[0;34m)\u001b[0m\u001b[0;34m,\u001b[0m\u001b[0;34m\u001b[0m\u001b[0m\n\u001b[0m\u001b[1;32m    244\u001b[0m         \u001b[0;34m'initial_states'\u001b[0m\u001b[0;34m:\u001b[0m \u001b[0mset\u001b[0m\u001b[0;34m(\u001b[0m\u001b[0mjson_file\u001b[0m\u001b[0;34m[\u001b[0m\u001b[0;34m'initial_states'\u001b[0m\u001b[0;34m]\u001b[0m\u001b[0;34m)\u001b[0m\u001b[0;34m,\u001b[0m\u001b[0;34m\u001b[0m\u001b[0m\n\u001b[1;32m    245\u001b[0m         \u001b[0;34m'accepting_states'\u001b[0m\u001b[0;34m:\u001b[0m \u001b[0mset\u001b[0m\u001b[0;34m(\u001b[0m\u001b[0mjson_file\u001b[0m\u001b[0;34m[\u001b[0m\u001b[0;34m'accepting_states'\u001b[0m\u001b[0;34m]\u001b[0m\u001b[0;34m)\u001b[0m\u001b[0;34m,\u001b[0m\u001b[0;34m\u001b[0m\u001b[0m\n",
      "\u001b[0;31mTypeError\u001b[0m: unhashable type: 'list'"
     ]
    }
   ],
   "source": [
    "automata_IO.nfa_to_dot(\n",
    "    automata_IO.nfa_json_importer('nfa_example.json'),\n",
    "    'nfa_example',\n",
    "    '.'\n",
    ")"
   ]
  },
  {
   "cell_type": "code",
   "execution_count": 40,
   "metadata": {},
   "outputs": [],
   "source": [
    "j['2'] = {}"
   ]
  },
  {
   "cell_type": "code",
   "execution_count": 41,
   "metadata": {},
   "outputs": [],
   "source": [
    "def e_closure(state, transitions):\n",
    "    result = {state}\n",
    "    if '' in list(transitions[state].keys()):\n",
    "        nextState = transitions[state]['']\n",
    "        result |= {nextState} | e_closure(nextState, transitions)\n",
    "    return result"
   ]
  },
  {
   "cell_type": "code",
   "execution_count": 91,
   "metadata": {},
   "outputs": [
    {
     "data": {
      "text/plain": [
       "{'0': {'': '0-0'},\n",
       " '0-2': {'': '1'},\n",
       " '0-4': {'': '1'},\n",
       " '0-0': {'Int': '0-1', '“.”': '0-3'},\n",
       " '0-1': {'': '0-1-0'},\n",
       " '0-1-2': {'': '0-2'},\n",
       " '0-1-0': {'“.”': '0-1-1', '': '0-1-2'},\n",
       " '0-1-1': {'': '0-1-1-0'},\n",
       " '0-1-1-0': {'': '0-1-2', 'digit': '0-1-1-1'},\n",
       " '0-1-1-1': {'': '0-1-1-0'},\n",
       " '0-3': {'Int': '0-4'},\n",
       " '1': {'': '1-0'},\n",
       " '1-3': {'': '2'},\n",
       " '1-0': {'“E”': '1-1', '': '1-3'},\n",
       " '1-1': {'': '1-1-0'},\n",
       " '1-1-1': {'': '1-2'},\n",
       " '1-1-2': {'': '1-2'},\n",
       " '1-1-0': {'“+”': '1-1-1', '“-”': '1-1-2', '': '1-1-2'},\n",
       " '1-2': {'Int': '1-3'},\n",
       " '2': {}}"
      ]
     },
     "execution_count": 91,
     "metadata": {},
     "output_type": "execute_result"
    }
   ],
   "source": [
    "j"
   ]
  },
  {
   "cell_type": "code",
   "execution_count": 92,
   "metadata": {},
   "outputs": [
    {
     "data": {
      "text/plain": [
       "{'0', '0-0'}"
      ]
     },
     "execution_count": 92,
     "metadata": {},
     "output_type": "execute_result"
    }
   ],
   "source": [
    "e_closure('0', j)"
   ]
  },
  {
   "cell_type": "code",
   "execution_count": 176,
   "metadata": {},
   "outputs": [],
   "source": [
    "def nfa2dfa(nfa):\n",
    "    transitions = []\n",
    "    searchStates = [{'0'}]\n",
    "    searchedStates = [{'0'}]\n",
    "    while searchStates:\n",
    "        #pdb.set_trace()\n",
    "        currState = reduce(lambda acc, x: acc | e_closure(x, j), searchStates.pop(0), set())\n",
    "        trans = {}\n",
    "        for item in currState:\n",
    "            for symbol, s1 in j[item].items():\n",
    "                if symbol != '':\n",
    "                    if not symbol in trans:\n",
    "                        trans[symbol] = e_closure(s1, j)\n",
    "                    else: trans[symbol] |= e_closure(s1, j)\n",
    "            #pdb.set_trace()\n",
    "            for symbol, s1 in trans.items():\n",
    "                if not s1 in (searchStates + searchedStates):\n",
    "                    searchStates.append(s1)\n",
    "                transitions.append([';'.join(sorted(currState)), symbol, ';'.join(sorted(s1))])\n",
    "            searchedStates.append(currState)\n",
    "    return transitions"
   ]
  },
  {
   "cell_type": "code",
   "execution_count": 177,
   "metadata": {
    "scrolled": true
   },
   "outputs": [],
   "source": [
    "z = nfa2dfa(0)"
   ]
  },
  {
   "cell_type": "code",
   "execution_count": 178,
   "metadata": {},
   "outputs": [],
   "source": [
    "states = reduce(lambda acc, x: acc | {x[0], x[2]}, z, set())"
   ]
  },
  {
   "cell_type": "code",
   "execution_count": 179,
   "metadata": {},
   "outputs": [],
   "source": [
    "alphabet = reduce(lambda acc, x: acc | {x[1]}, z, set())"
   ]
  },
  {
   "cell_type": "code",
   "execution_count": 181,
   "metadata": {},
   "outputs": [
    {
     "data": {
      "text/plain": [
       "{'0-1-1-0;0-1-1-1;0-1-2;0-2;1;1-0;1-3;2',\n",
       " '0-1-1;0-1-1-0;0-1-2;0-2;1;1-0;1-3;2',\n",
       " '0-1;0-1-0;0-1-2;0-2;1;1-0;1-3;2',\n",
       " '0-3',\n",
       " '0-4;1;1-0;1-3;2',\n",
       " '0;0-0',\n",
       " '1-1-1;1-2',\n",
       " '1-1-2;1-2',\n",
       " '1-1;1-1-0;1-1-2;1-2',\n",
       " '1-3;2'}"
      ]
     },
     "execution_count": 181,
     "metadata": {},
     "output_type": "execute_result"
    }
   ],
   "source": [
    "states"
   ]
  },
  {
   "cell_type": "code",
   "execution_count": 182,
   "metadata": {},
   "outputs": [],
   "source": [
    "initial_state = '0;0-0'\n",
    "accepting_states = ['0-1-1-0;0-1-1-1;0-1-2;0-2;1;1-0;1-3;2','0-1-1;0-1-1-0;0-1-2;0-2;1;1-0;1-3;2','0-1;0-1-0;0-1-2;0-2;1;1-0;1-3;2','0-4;1;1-0;1-3;2','1-3;2']"
   ]
  },
  {
   "cell_type": "code",
   "execution_count": 185,
   "metadata": {},
   "outputs": [],
   "source": [
    "newDfa = {\n",
    "    \"alphabet\": list(alphabet),\n",
    "    \"states\": list(states),\n",
    "    \"initial_state\": initial_state,\n",
    "    \"accepting_states\": accepting_states,\n",
    "    \"transitions\": z\n",
    "}"
   ]
  },
  {
   "cell_type": "code",
   "execution_count": 186,
   "metadata": {},
   "outputs": [],
   "source": [
    "with open('dfa_example.json', 'w') as f:\n",
    "    json.dump(newDfa, f)"
   ]
  },
  {
   "cell_type": "code",
   "execution_count": 188,
   "metadata": {},
   "outputs": [],
   "source": [
    "automata_IO.dfa_to_dot(\n",
    "    automata_IO.dfa_json_importer('dfa_example.json'),\n",
    "    'dfa_example',\n",
    "    '.'\n",
    ")"
   ]
  },
  {
   "cell_type": "code",
   "execution_count": 57,
   "metadata": {},
   "outputs": [
    {
     "ename": "FileNotFoundError",
     "evalue": "[Errno 2] No such file or directory: 'dfa_example.json'",
     "output_type": "error",
     "traceback": [
      "\u001b[0;31m---------------------------------------------------------------------------\u001b[0m",
      "\u001b[0;31mFileNotFoundError\u001b[0m                         Traceback (most recent call last)",
      "\u001b[0;32m<ipython-input-57-8c702c2c5836>\u001b[0m in \u001b[0;36m<module>\u001b[0;34m\u001b[0m\n\u001b[0;32m----> 1\u001b[0;31m \u001b[0mautomata_IO\u001b[0m\u001b[0;34m.\u001b[0m\u001b[0mdfa_json_importer\u001b[0m\u001b[0;34m(\u001b[0m\u001b[0;34m'dfa_example.json'\u001b[0m\u001b[0;34m)\u001b[0m\u001b[0;34m,\u001b[0m\u001b[0;34m\u001b[0m\u001b[0m\n\u001b[0m",
      "\u001b[0;32m~/.pyenv/versions/miniconda3-latest/envs/notebook/lib/python3.7/site-packages/PySimpleAutomata/automata_IO.py\u001b[0m in \u001b[0;36mdfa_json_importer\u001b[0;34m(input_file)\u001b[0m\n\u001b[1;32m     33\u001b[0m     \u001b[0;34m:\u001b[0m\u001b[0;32mreturn\u001b[0m\u001b[0;34m:\u001b[0m \u001b[0;34m*\u001b[0m\u001b[0;34m(\u001b[0m\u001b[0mdict\u001b[0m\u001b[0;34m)\u001b[0m\u001b[0;34m*\u001b[0m \u001b[0mrepresenting\u001b[0m \u001b[0ma\u001b[0m \u001b[0mDFA\u001b[0m\u001b[0;34m.\u001b[0m\u001b[0;34m\u001b[0m\u001b[0m\n\u001b[1;32m     34\u001b[0m     \"\"\"\n\u001b[0;32m---> 35\u001b[0;31m     \u001b[0mfile\u001b[0m \u001b[0;34m=\u001b[0m \u001b[0mopen\u001b[0m\u001b[0;34m(\u001b[0m\u001b[0minput_file\u001b[0m\u001b[0;34m)\u001b[0m\u001b[0;34m\u001b[0m\u001b[0m\n\u001b[0m\u001b[1;32m     36\u001b[0m     \u001b[0mjson_file\u001b[0m \u001b[0;34m=\u001b[0m \u001b[0mjson\u001b[0m\u001b[0;34m.\u001b[0m\u001b[0mload\u001b[0m\u001b[0;34m(\u001b[0m\u001b[0mfile\u001b[0m\u001b[0;34m)\u001b[0m\u001b[0;34m\u001b[0m\u001b[0m\n\u001b[1;32m     37\u001b[0m \u001b[0;34m\u001b[0m\u001b[0m\n",
      "\u001b[0;31mFileNotFoundError\u001b[0m: [Errno 2] No such file or directory: 'dfa_example.json'"
     ]
    }
   ],
   "source": [
    "automata_IO.dfa_json_importer('dfa_example.json'),"
   ]
  },
  {
   "cell_type": "code",
   "execution_count": null,
   "metadata": {},
   "outputs": [],
   "source": []
  }
 ],
 "metadata": {
  "kernelspec": {
   "display_name": "Python 3",
   "language": "python",
   "name": "python3"
  },
  "language_info": {
   "codemirror_mode": {
    "name": "ipython",
    "version": 3
   },
   "file_extension": ".py",
   "mimetype": "text/x-python",
   "name": "python",
   "nbconvert_exporter": "python",
   "pygments_lexer": "ipython3",
   "version": "3.7.0"
  }
 },
 "nbformat": 4,
 "nbformat_minor": 2
}
