{
 "cells": [
  {
   "cell_type": "code",
   "execution_count": 476,
   "metadata": {},
   "outputs": [
    {
     "name": "stdout",
     "output_type": "stream",
     "text": [
      "Populating the interactive namespace from numpy and matplotlib\n"
     ]
    },
    {
     "name": "stderr",
     "output_type": "stream",
     "text": [
      "/home/willian/.pyenv/versions/miniconda3-latest/envs/notebook/lib/python3.7/site-packages/IPython/core/magics/pylab.py:160: UserWarning: pylab import has clobbered these variables: ['pylab']\n",
      "`%matplotlib` prevents importing * from pylab and numpy\n",
      "  \"\\n`%matplotlib` prevents importing * from pylab and numpy\"\n"
     ]
    },
    {
     "ename": "SyntaxError",
     "evalue": "EOL while scanning string literal (<ipython-input-476-7bf0ddcefe42>, line 54)",
     "output_type": "error",
     "traceback": [
      "\u001b[0;36m  File \u001b[0;32m\"<ipython-input-476-7bf0ddcefe42>\"\u001b[0;36m, line \u001b[0;32m54\u001b[0m\n\u001b[0;31m    z = re.sub(r'[“”]', '', x).replace('\\\\', '\\')\u001b[0m\n\u001b[0m                                                 ^\u001b[0m\n\u001b[0;31mSyntaxError\u001b[0m\u001b[0;31m:\u001b[0m EOL while scanning string literal\n"
     ]
    }
   ],
   "source": [
    "%run 'MetaRecognizer.ipynb'"
   ]
  },
  {
   "cell_type": "code",
   "execution_count": 466,
   "metadata": {},
   "outputs": [],
   "source": [
    "mr = MetaRecognizer('grammar.txt', 'fsm/')"
   ]
  },
  {
   "cell_type": "code",
   "execution_count": 467,
   "metadata": {},
   "outputs": [
    {
     "data": {
      "text/plain": [
       "['3']"
      ]
     },
     "execution_count": 467,
     "metadata": {},
     "output_type": "execute_result"
    }
   ],
   "source": [
    "mr.fsms['Int'].accepting_states"
   ]
  },
  {
   "cell_type": "code",
   "execution_count": 468,
   "metadata": {},
   "outputs": [],
   "source": [
    "mr.determinizeAll()"
   ]
  },
  {
   "cell_type": "code",
   "execution_count": 469,
   "metadata": {},
   "outputs": [
    {
     "data": {
      "text/plain": [
       "['B', 'C']"
      ]
     },
     "execution_count": 469,
     "metadata": {},
     "output_type": "execute_result"
    }
   ],
   "source": [
    "mr.fsms['Int'].dfa.accepting_states"
   ]
  },
  {
   "cell_type": "code",
   "execution_count": 472,
   "metadata": {},
   "outputs": [
    {
     "name": "stdout",
     "output_type": "stream",
     "text": [
      "> <ipython-input-465-1320c4bae103>(82)readChar()\n",
      "-> if self.NTon:\n",
      "(Pdb) c\n",
      "\tgot tokens &['“+”', '“-”']& in 4.] -> {'0-0': {'+': ['0-1'], '': ['0-0', '0-2', '0-4']}, '0-2': {'-': ['0-3']}, '0-1': {'': ['0-4']}, '0-3': {'': ['0-4']}}\n",
      "Adding transition (0) ->0-0\n",
      "Now we have {'0': {'': ['0-0']}}\n",
      "Adding transition (0-4) ->1\n",
      "Now we have {'0': {'': ['0-0']}, '0-4': {'': ['1']}}\n",
      "\t Current t: {'0': {'': ['0-0']}, '0-4': {'': ['1']}, '0-0': {'+': ['0-1'], '': ['0-0', '0-2', '0-4']}, '0-2': {'-': ['0-3']}, '0-1': {'': ['0-4']}, '0-3': {'': ['0-4']}}\n",
      "state 1\n",
      "> <ipython-input-465-1320c4bae103>(82)readChar()\n",
      "-> if self.NTon:\n",
      "(Pdb) c\n",
      "> <ipython-input-465-1320c4bae103>(82)readChar()\n",
      "-> if self.NTon:\n",
      "(Pdb) c\n",
      "> <ipython-input-465-1320c4bae103>(82)readChar()\n",
      "-> if self.NTon:\n",
      "(Pdb) c\n",
      "> <ipython-input-465-1320c4bae103>(82)readChar()\n",
      "-> if self.NTon:\n",
      "(Pdb) c\n",
      "Adding transition (1) :Eb->2\n",
      "Now we have {'0': {'': ['0-0']}, '0-4': {'': ['1']}, '0-0': {'+': ['0-1'], '': ['0-0', '0-2', '0-4']}, '0-2': {'-': ['0-3']}, '0-1': {'': ['0-4']}, '0-3': {'': ['0-4']}, '1': {':Eb': ['2']}}\n",
      "state 2\n",
      "> <ipython-input-465-1320c4bae103>(82)readChar()\n",
      "-> if self.NTon:\n",
      "(Pdb) c\n",
      "\tgot tokens &[':Eb', '“+”', '“-”', '“*”', '“/”', '“↑”']& in 3.} -> {'2-0': {'': ['2-0-0', '2-0']}, '2-0-10': {'': ['2-1']}, '2-0-0': {'+': ['2-0-1'], '': ['2-0-0', '2-0-2', '2-0-4', '2-0-6', '2-0-8']}, '2-0-2': {'-': ['2-0-3']}, '2-0-4': {'*': ['2-0-5']}, '2-0-6': {'/': ['2-0-7']}, '2-0-8': {'↑': ['2-0-9']}, '2-0-1': {'': ['2-0-10']}, '2-0-3': {'': ['2-0-10']}, '2-0-5': {'': ['2-0-10']}, '2-0-7': {'': ['2-0-10']}, '2-0-9': {'': ['2-0-10']}, '2-1': {':Eb': ['2-2']}, '2-2': {'': ['2-3']}, '2-3': {'': ['2-0']}}\n",
      "Adding transition (2) ->2-0\n",
      "Now we have {'0': {'': ['0-0']}, '0-4': {'': ['1']}, '0-0': {'+': ['0-1'], '': ['0-0', '0-2', '0-4']}, '0-2': {'-': ['0-3']}, '0-1': {'': ['0-4']}, '0-3': {'': ['0-4']}, '1': {':Eb': ['2']}, '2': {'': ['2-0']}}\n",
      "Adding transition (2-0) ->3\n",
      "Now we have {'0': {'': ['0-0']}, '0-4': {'': ['1']}, '0-0': {'+': ['0-1'], '': ['0-0', '0-2', '0-4']}, '0-2': {'-': ['0-3']}, '0-1': {'': ['0-4']}, '0-3': {'': ['0-4']}, '1': {':Eb': ['2']}, '2': {'': ['2-0']}, '2-0': {'': ['3']}}\n",
      "\t Current t: {'0': {'': ['0-0']}, '0-4': {'': ['1']}, '0-0': {'+': ['0-1'], '': ['0-0', '0-2', '0-4']}, '0-2': {'-': ['0-3']}, '0-1': {'': ['0-4']}, '0-3': {'': ['0-4']}, '1': {':Eb': ['2']}, '2': {'': ['2-0']}, '2-0': {'': ['3', '2-0-0', '2-0']}, '2-0-10': {'': ['2-1']}, '2-0-0': {'+': ['2-0-1'], '': ['2-0-0', '2-0-2', '2-0-4', '2-0-6', '2-0-8']}, '2-0-2': {'-': ['2-0-3']}, '2-0-4': {'*': ['2-0-5']}, '2-0-6': {'/': ['2-0-7']}, '2-0-8': {'↑': ['2-0-9']}, '2-0-1': {'': ['2-0-10']}, '2-0-3': {'': ['2-0-10']}, '2-0-5': {'': ['2-0-10']}, '2-0-7': {'': ['2-0-10']}, '2-0-9': {'': ['2-0-10']}, '2-1': {':Eb': ['2-2']}, '2-2': {'': ['2-3']}, '2-3': {'': ['2-0']}}\n",
      "state 3\n",
      "Adding transition (0) ->0\n",
      "Now we have {'0': {'': ['0-0', '0']}, '0-4': {'': ['1']}, '0-0': {'+': ['0-1'], '': ['0-0', '0-2', '0-4']}, '0-2': {'-': ['0-3']}, '0-1': {'': ['0-4']}, '0-3': {'': ['0-4']}, '1': {':Eb': ['2']}, '2': {'': ['2-0']}, '2-0': {'': ['3', '2-0-0', '2-0']}, '2-0-10': {'': ['2-1']}, '2-0-0': {'+': ['2-0-1'], '': ['2-0-0', '2-0-2', '2-0-4', '2-0-6', '2-0-8']}, '2-0-2': {'-': ['2-0-3']}, '2-0-4': {'*': ['2-0-5']}, '2-0-6': {'/': ['2-0-7']}, '2-0-8': {'↑': ['2-0-9']}, '2-0-1': {'': ['2-0-10']}, '2-0-3': {'': ['2-0-10']}, '2-0-5': {'': ['2-0-10']}, '2-0-7': {'': ['2-0-10']}, '2-0-9': {'': ['2-0-10']}, '2-1': {':Eb': ['2-2']}, '2-2': {'': ['2-3']}, '2-3': {'': ['2-0']}}\n",
      "Adding transition (3) ->4\n",
      "Now we have {'0': {'': ['0-0', '0']}, '0-4': {'': ['1']}, '0-0': {'+': ['0-1'], '': ['0-0', '0-2', '0-4']}, '0-2': {'-': ['0-3']}, '0-1': {'': ['0-4']}, '0-3': {'': ['0-4']}, '1': {':Eb': ['2']}, '2': {'': ['2-0']}, '2-0': {'': ['3', '2-0-0', '2-0']}, '2-0-10': {'': ['2-1']}, '2-0-0': {'+': ['2-0-1'], '': ['2-0-0', '2-0-2', '2-0-4', '2-0-6', '2-0-8']}, '2-0-2': {'-': ['2-0-3']}, '2-0-4': {'*': ['2-0-5']}, '2-0-6': {'/': ['2-0-7']}, '2-0-8': {'↑': ['2-0-9']}, '2-0-1': {'': ['2-0-10']}, '2-0-3': {'': ['2-0-10']}, '2-0-5': {'': ['2-0-10']}, '2-0-7': {'': ['2-0-10']}, '2-0-9': {'': ['2-0-10']}, '2-1': {':Eb': ['2-2']}, '2-2': {'': ['2-3']}, '2-3': {'': ['2-0']}, '3': {'': ['4']}}\n"
     ]
    }
   ],
   "source": [
    "z = FSMGenerator(list('[ “+” | “-” ] Eb { ( “+” | “-” | “*” | “/” | “↑” ) Eb }'), debug=True).run()"
   ]
  },
  {
   "cell_type": "code",
   "execution_count": 473,
   "metadata": {},
   "outputs": [],
   "source": [
    "x = FSM.loadGenerator('Exp', z)"
   ]
  },
  {
   "cell_type": "code",
   "execution_count": 475,
   "metadata": {},
   "outputs": [],
   "source": [
    "x.image()"
   ]
  },
  {
   "cell_type": "code",
   "execution_count": 479,
   "metadata": {},
   "outputs": [
    {
     "data": {
      "text/plain": [
       "False"
      ]
     },
     "execution_count": 479,
     "metadata": {},
     "output_type": "execute_result"
    }
   ],
   "source": [
    "chr(10) == '\\\\n'"
   ]
  },
  {
   "cell_type": "code",
   "execution_count": null,
   "metadata": {},
   "outputs": [],
   "source": []
  }
 ],
 "metadata": {
  "kernelspec": {
   "display_name": "Python 3",
   "language": "python",
   "name": "python3"
  },
  "language_info": {
   "codemirror_mode": {
    "name": "ipython",
    "version": 3
   },
   "file_extension": ".py",
   "mimetype": "text/x-python",
   "name": "python",
   "nbconvert_exporter": "python",
   "pygments_lexer": "ipython3",
   "version": "3.7.0"
  }
 },
 "nbformat": 4,
 "nbformat_minor": 2
}
